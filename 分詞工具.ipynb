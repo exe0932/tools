{
 "cells": [
  {
   "cell_type": "code",
   "execution_count": 1,
   "outputs": [
    {
     "name": "stdout",
     "output_type": "stream",
     "text": [
      "['我们', '我', '今天', '特别', '特别想', '非常', '非常想', '吃', '芒果', '啊']\n",
      "['我', '今天', '特别想', '吃', '芒果', '啊']\n"
     ]
    }
   ],
   "source": [
    "# 分词系统\n",
    "corpus = ['我们', '我', '今天', '特别', '特别想', '非常', '非常想', '吃', '芒果']\n",
    "sentence = '我今天特别想吃芒果啊'\n",
    "max_num = 3\n",
    "def word_segment1(sentence, corpus, max_num):\n",
    "    result = []\n",
    "    start = 0\n",
    "    end = min(start + max_num,len(sentence))\n",
    "    while(start!=len(sentence)):\n",
    "        if start==end:\n",
    "            result.append(sentence[start])\n",
    "            if sentence[start] not in corpus:\n",
    "                corpus.append(sentence[start])  #假如词库中找不到单词，则返回这个单词，并往词库中添加；看具体的场景，如果词库中没有这个词则也可以直接返回空值，表示分词失败\n",
    "            start +=1\n",
    "            end = min(start + max_num, len(sentence))\n",
    "        if sentence[start:end] in corpus:\n",
    "            result.append(sentence[start:end])\n",
    "            start += len(result[-1])\n",
    "            end = min(start + max_num,len(sentence))\n",
    "        else:\n",
    "            end -=1\n",
    "    return corpus, result\n",
    "newcorpus, result = word_segment1(sentence,corpus,max_num)\n",
    "print(newcorpus)\n",
    "print(result)"
   ],
   "metadata": {
    "collapsed": false,
    "pycharm": {
     "name": "#%%\n"
    }
   }
  },
  {
   "cell_type": "code",
   "execution_count": null,
   "outputs": [],
   "source": [],
   "metadata": {
    "collapsed": false,
    "pycharm": {
     "name": "#%%\n"
    }
   }
  }
 ],
 "metadata": {
  "kernelspec": {
   "display_name": "Python 3",
   "language": "python",
   "name": "python3"
  },
  "language_info": {
   "codemirror_mode": {
    "name": "ipython",
    "version": 2
   },
   "file_extension": ".py",
   "mimetype": "text/x-python",
   "name": "python",
   "nbconvert_exporter": "python",
   "pygments_lexer": "ipython2",
   "version": "2.7.6"
  }
 },
 "nbformat": 4,
 "nbformat_minor": 0
}